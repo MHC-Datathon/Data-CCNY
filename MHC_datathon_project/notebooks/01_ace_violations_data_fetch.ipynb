{
  "cells": [
    {
      "cell_type": "code",
      "execution_count": 1,
      "metadata": {},
      "outputs": [
        {
          "name": "stdout",
          "output_type": "stream",
          "text": [
            "ACE Manhattan: 1,687,191 → /Users/mohamedhiba/Fall 2025/datathon/data/raw/ace_violations_manhattan.csv\n",
            "Bus lanes Manhattan: 1,241 → /Users/mohamedhiba/Fall 2025/datathon/data/raw/bus_lanes_manhattan.csv\n",
            "NTAs Manhattan: 38 → /Users/mohamedhiba/Fall 2025/datathon/data/raw/ntas_2020_manhattan.csv\n"
          ]
        },
        {
          "ename": "",
          "evalue": "",
          "output_type": "error",
          "traceback": [
            "\u001b[1;31mThe Kernel crashed while executing code in the current cell or a previous cell. \n",
            "\u001b[1;31mPlease review the code in the cell(s) to identify a possible cause of the failure. \n",
            "\u001b[1;31mClick <a href='https://aka.ms/vscodeJupyterKernelCrash'>here</a> for more info. \n",
            "\u001b[1;31mView Jupyter <a href='command:jupyter.viewOutput'>log</a> for further details."
          ]
        }
      ],
      "source": [
        "# Quick fetch: Manhattan slices (ACE violations, bus lanes, NTAs)\n",
        "import math\n",
        "import requests\n",
        "import pandas as pd\n",
        "from pathlib import Path\n",
        "\n",
        "MN_BBOX = (40.8820, -74.0479, 40.7000, -73.9067)  # north, west, south, east\n",
        "RAW = Path.cwd().parent / \"data\" / \"raw\"\n",
        "RAW.mkdir(parents=True, exist_ok=True)\n",
        "\n",
        "def fetch_paged(base_url, where=None, order=None, limit=50000, max_pages=50):\n",
        "    params = {\"$limit\": limit}\n",
        "    if where:\n",
        "        params[\"$where\"] = where\n",
        "    if order:\n",
        "        params[\"$order\"] = order\n",
        "    frames = []\n",
        "    offset = 0\n",
        "    for _ in range(max_pages):\n",
        "        params[\"$offset\"] = offset\n",
        "        r = requests.get(base_url, params=params, timeout=60)\n",
        "        r.raise_for_status()\n",
        "        data = r.json()\n",
        "        if not data:\n",
        "            break\n",
        "        frames.append(pd.DataFrame(data))\n",
        "        if len(data) < limit:\n",
        "            break\n",
        "        offset += limit\n",
        "    return pd.concat(frames, ignore_index=True) if frames else pd.DataFrame()\n",
        "\n",
        "# 1) ACE violations (bbox)\n",
        "ace_where = f\"within_box(violation_georeference,{MN_BBOX[0]},{MN_BBOX[1]},{MN_BBOX[2]},{MN_BBOX[3]})\"\n",
        "ace_df = fetch_paged(\n",
        "    \"https://data.ny.gov/resource/kh8p-hcbm.json\",\n",
        "    where=ace_where,\n",
        "    order=\"first_occurrence\"\n",
        ")\n",
        "ace_out = RAW / \"ace_violations_manhattan.csv\"\n",
        "ace_df.to_csv(ace_out, index=False)\n",
        "print(f\"ACE Manhattan: {len(ace_df):,} → {ace_out}\")\n",
        "\n",
        "# 2) Bus lanes (Manhattan)\n",
        "lanes_df = fetch_paged(\n",
        "    \"https://data.cityofnewyork.us/resource/ycrg-ses3.json\",\n",
        "    where=\"upper(boro) like '%MAN%'\"\n",
        ")\n",
        "if lanes_df.empty:\n",
        "    # Fallback to bbox filter if borough code format changes\n",
        "    min_lon, min_lat, max_lon, max_lat = -74.0479, 40.7000, -73.9067, 40.8820\n",
        "    lanes_df = fetch_paged(\n",
        "        \"https://data.cityofnewyork.us/resource/ycrg-ses3.json\",\n",
        "        where=f\"within_box(the_geom,{min_lon},{min_lat},{max_lon},{max_lat})\"\n",
        "    )\n",
        "lanes_out = RAW / \"bus_lanes_manhattan.csv\"\n",
        "lanes_df.to_csv(lanes_out, index=False)\n",
        "print(f\"Bus lanes Manhattan: {len(lanes_df):,} → {lanes_out}\")\n",
        "\n",
        "# 3) NTAs (borocode=1)\n",
        "ntas_df = fetch_paged(\n",
        "    \"https://data.cityofnewyork.us/resource/9nt8-h7nd.json\",\n",
        "    where=\"borocode=1\"\n",
        ")\n",
        "ntas_out = RAW / \"ntas_2020_manhattan.csv\"\n",
        "ntas_df.to_csv(ntas_out, index=False)\n",
        "print(f\"NTAs Manhattan: {len(ntas_df):,} → {ntas_out}\")\n"
      ]
    },
    {
      "cell_type": "code",
      "execution_count": 2,
      "metadata": {},
      "outputs": [
        {
          "name": "stdout",
          "output_type": "stream",
          "text": [
            "schools_nyc.csv 440\n",
            "schools_manhattan.csv 107\n",
            "hospitals_nyc.csv 78\n",
            "hospitals_manhattan.csv 24\n"
          ]
        }
      ],
      "source": [
        "# Fetch schools + hospitals (NYC-wide) and save Manhattan subsets\n",
        "import requests, pandas as pd\n",
        "from pathlib import Path\n",
        "\n",
        "RAW = Path.cwd().parent / \"data\" / \"raw\"\n",
        "RAW.mkdir(parents=True, exist_ok=True)\n",
        "\n",
        "MN_BBOX = (40.8820, -74.0479, 40.7000, -73.9067)  # north, west, south, east\n",
        "\n",
        "def fetch_to_csv(url, out, params=None):\n",
        "    p = {\"$limit\": 50000}\n",
        "    if params: p.update(params)\n",
        "    r = requests.get(url, params=p, timeout=60); r.raise_for_status()\n",
        "    df = pd.DataFrame(r.json()); df.to_csv(RAW/out, index=False)\n",
        "    print(out, len(df))\n",
        "\n",
        "# Schools (DOE) — NYC and Manhattan (bbox on location_1)\n",
        "fetch_to_csv(\"https://data.cityofnewyork.us/resource/s3k6-pzi2.json\", \"schools_nyc.csv\")\n",
        "fetch_to_csv(\n",
        "    \"https://data.cityofnewyork.us/resource/s3k6-pzi2.json\",\n",
        "    \"schools_manhattan.csv\",\n",
        "    params={\n",
        "        \"$where\": \"upper(borough) in ('M','MANHATTAN')\"\n",
        "    }\n",
        ")\n",
        "\n",
        "# Hospitals — correct dataset q6fj-vxf8; use borough filter for Manhattan\n",
        "fetch_to_csv(\"https://data.cityofnewyork.us/resource/q6fj-vxf8.json\", \"hospitals_nyc.csv\")\n",
        "fetch_to_csv(\n",
        "    \"https://data.cityofnewyork.us/resource/q6fj-vxf8.json\",\n",
        "    \"hospitals_manhattan.csv\",\n",
        "    params={\"borough\": \"Manhattan\"}\n",
        ")\n"
      ]
    }
  ],
  "metadata": {
    "kernelspec": {
      "display_name": "base",
      "language": "python",
      "name": "python3"
    },
    "language_info": {
      "codemirror_mode": {
        "name": "ipython",
        "version": 3
      },
      "file_extension": ".py",
      "mimetype": "text/x-python",
      "name": "python",
      "nbconvert_exporter": "python",
      "pygments_lexer": "ipython3",
      "version": "3.12.2"
    }
  },
  "nbformat": 4,
  "nbformat_minor": 2
}
